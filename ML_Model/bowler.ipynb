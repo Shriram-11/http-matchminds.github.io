{
 "cells": [
  {
   "cell_type": "code",
   "execution_count": 1,
   "metadata": {
    "executionInfo": {
     "elapsed": 1639,
     "status": "ok",
     "timestamp": 1699930271319,
     "user": {
      "displayName": "Vinithkumar Alande",
      "userId": "11682185657316466666"
     },
     "user_tz": -330
    },
    "id": "hQxQLRkGlrqN"
   },
   "outputs": [],
   "source": [
    "import pandas as pd\n",
    "import numpy as np\n",
    "from sklearn.model_selection import train_test_split"
   ]
  },
  {
   "cell_type": "code",
   "execution_count": 2,
   "metadata": {
    "colab": {
     "base_uri": "https://localhost:8080/"
    },
    "executionInfo": {
     "elapsed": 17215,
     "status": "ok",
     "timestamp": 1699930295333,
     "user": {
      "displayName": "Vinithkumar Alande",
      "userId": "11682185657316466666"
     },
     "user_tz": -330
    },
    "id": "lnjFup_Bl9lW",
    "outputId": "345b504d-7888-47fa-e3b0-4eb980a4c40d"
   },
   "outputs": [],
   "source": [
    "###from google.colab import drive\n",
    "###drive.mount('/content/drive')"
   ]
  },
  {
   "cell_type": "code",
   "execution_count": 3,
   "metadata": {
    "colab": {
     "base_uri": "https://localhost:8080/"
    },
    "executionInfo": {
     "elapsed": 6,
     "status": "ok",
     "timestamp": 1699930295333,
     "user": {
      "displayName": "Vinithkumar Alande",
      "userId": "11682185657316466666"
     },
     "user_tz": -330
    },
    "id": "UQ-sACCvmBBt",
    "outputId": "30dab4c6-30e7-4c6e-b9b0-649ef7b01d80"
   },
   "outputs": [],
   "source": [
    "#%cd /content/drive/MyDrive/Colab Notebooks"
   ]
  },
  {
   "cell_type": "code",
   "execution_count": 4,
   "metadata": {
    "executionInfo": {
     "elapsed": 698,
     "status": "ok",
     "timestamp": 1699930296029,
     "user": {
      "displayName": "Vinithkumar Alande",
      "userId": "11682185657316466666"
     },
     "user_tz": -330
    },
    "id": "Vx3GJ6n1mGp9"
   },
   "outputs": [],
   "source": [
    "df = pd.read_csv('bowlers.csv')"
   ]
  },
  {
   "cell_type": "code",
   "execution_count": 5,
   "metadata": {
    "colab": {
     "base_uri": "https://localhost:8080/",
     "height": 206
    },
    "executionInfo": {
     "elapsed": 6,
     "status": "ok",
     "timestamp": 1699930305450,
     "user": {
      "displayName": "Vinithkumar Alande",
      "userId": "11682185657316466666"
     },
     "user_tz": -330
    },
    "id": "HomQlPT5mK8d",
    "outputId": "e866bc2c-01d6-495d-95fc-704372b3aba7"
   },
   "outputs": [
    {
     "data": {
      "text/html": [
       "<div>\n",
       "<style scoped>\n",
       "    .dataframe tbody tr th:only-of-type {\n",
       "        vertical-align: middle;\n",
       "    }\n",
       "\n",
       "    .dataframe tbody tr th {\n",
       "        vertical-align: top;\n",
       "    }\n",
       "\n",
       "    .dataframe thead th {\n",
       "        text-align: right;\n",
       "    }\n",
       "</style>\n",
       "<table border=\"1\" class=\"dataframe\">\n",
       "  <thead>\n",
       "    <tr style=\"text-align: right;\">\n",
       "      <th></th>\n",
       "      <th>name</th>\n",
       "      <th>team_played_against</th>\n",
       "      <th>wickets</th>\n",
       "      <th>overs_bowled</th>\n",
       "      <th>runs</th>\n",
       "      <th>team_batting_first_or_second</th>\n",
       "      <th>stadium</th>\n",
       "      <th>weather_conditions</th>\n",
       "      <th>league</th>\n",
       "      <th>type</th>\n",
       "    </tr>\n",
       "  </thead>\n",
       "  <tbody>\n",
       "    <tr>\n",
       "      <th>0</th>\n",
       "      <td>Mohammed Shami</td>\n",
       "      <td>Nepal</td>\n",
       "      <td>1</td>\n",
       "      <td>7.0</td>\n",
       "      <td>29</td>\n",
       "      <td>S</td>\n",
       "      <td>Pallekele</td>\n",
       "      <td>Rain</td>\n",
       "      <td>Asia Cup</td>\n",
       "      <td>ODI</td>\n",
       "    </tr>\n",
       "    <tr>\n",
       "      <th>1</th>\n",
       "      <td>Mohammed Siraj</td>\n",
       "      <td>Nepal</td>\n",
       "      <td>3</td>\n",
       "      <td>9.2</td>\n",
       "      <td>61</td>\n",
       "      <td>S</td>\n",
       "      <td>Pallekele</td>\n",
       "      <td>Rain</td>\n",
       "      <td>Asia Cup</td>\n",
       "      <td>ODI</td>\n",
       "    </tr>\n",
       "    <tr>\n",
       "      <th>2</th>\n",
       "      <td>Hardik Pandya</td>\n",
       "      <td>Nepal</td>\n",
       "      <td>1</td>\n",
       "      <td>8.0</td>\n",
       "      <td>34</td>\n",
       "      <td>S</td>\n",
       "      <td>Pallekele</td>\n",
       "      <td>Rain</td>\n",
       "      <td>Asia Cup</td>\n",
       "      <td>ODI</td>\n",
       "    </tr>\n",
       "    <tr>\n",
       "      <th>3</th>\n",
       "      <td>Shardul Thakur</td>\n",
       "      <td>Nepal</td>\n",
       "      <td>1</td>\n",
       "      <td>4.0</td>\n",
       "      <td>26</td>\n",
       "      <td>S</td>\n",
       "      <td>Pallekele</td>\n",
       "      <td>Rain</td>\n",
       "      <td>Asia Cup</td>\n",
       "      <td>ODI</td>\n",
       "    </tr>\n",
       "    <tr>\n",
       "      <th>4</th>\n",
       "      <td>Ravindra Jadeja</td>\n",
       "      <td>Nepal</td>\n",
       "      <td>3</td>\n",
       "      <td>10.0</td>\n",
       "      <td>40</td>\n",
       "      <td>S</td>\n",
       "      <td>Pallekele</td>\n",
       "      <td>Rain</td>\n",
       "      <td>Asia Cup</td>\n",
       "      <td>ODI</td>\n",
       "    </tr>\n",
       "  </tbody>\n",
       "</table>\n",
       "</div>"
      ],
      "text/plain": [
       "              name team_played_against  wickets  overs_bowled  runs  \\\n",
       "0   Mohammed Shami               Nepal        1           7.0    29   \n",
       "1   Mohammed Siraj               Nepal        3           9.2    61   \n",
       "2    Hardik Pandya               Nepal        1           8.0    34   \n",
       "3   Shardul Thakur               Nepal        1           4.0    26   \n",
       "4  Ravindra Jadeja               Nepal        3          10.0    40   \n",
       "\n",
       "  team_batting_first_or_second    stadium weather_conditions    league type  \n",
       "0                            S  Pallekele               Rain  Asia Cup  ODI  \n",
       "1                            S  Pallekele               Rain  Asia Cup  ODI  \n",
       "2                            S  Pallekele               Rain  Asia Cup  ODI  \n",
       "3                            S  Pallekele               Rain  Asia Cup  ODI  \n",
       "4                            S  Pallekele               Rain  Asia Cup  ODI  "
      ]
     },
     "execution_count": 5,
     "metadata": {},
     "output_type": "execute_result"
    }
   ],
   "source": [
    "df.head()"
   ]
  },
  {
   "cell_type": "code",
   "execution_count": 6,
   "metadata": {
    "colab": {
     "base_uri": "https://localhost:8080/"
    },
    "executionInfo": {
     "elapsed": 4,
     "status": "ok",
     "timestamp": 1699930306942,
     "user": {
      "displayName": "Vinithkumar Alande",
      "userId": "11682185657316466666"
     },
     "user_tz": -330
    },
    "id": "YJwvzT8zmNKV",
    "outputId": "d1c79a46-f5b4-4a12-8659-96fde3c6da17"
   },
   "outputs": [
    {
     "name": "stdout",
     "output_type": "stream",
     "text": [
      "<class 'pandas.core.frame.DataFrame'>\n",
      "RangeIndex: 28 entries, 0 to 27\n",
      "Data columns (total 10 columns):\n",
      " #   Column                        Non-Null Count  Dtype  \n",
      "---  ------                        --------------  -----  \n",
      " 0   name                          28 non-null     object \n",
      " 1   team_played_against           28 non-null     object \n",
      " 2   wickets                       28 non-null     int64  \n",
      " 3   overs_bowled                  28 non-null     float64\n",
      " 4   runs                          28 non-null     int64  \n",
      " 5   team_batting_first_or_second  28 non-null     object \n",
      " 6   stadium                       28 non-null     object \n",
      " 7   weather_conditions            28 non-null     object \n",
      " 8   league                        28 non-null     object \n",
      " 9   type                          28 non-null     object \n",
      "dtypes: float64(1), int64(2), object(7)\n",
      "memory usage: 2.3+ KB\n"
     ]
    }
   ],
   "source": [
    "df.info()"
   ]
  },
  {
   "cell_type": "code",
   "execution_count": 7,
   "metadata": {
    "colab": {
     "base_uri": "https://localhost:8080/"
    },
    "executionInfo": {
     "elapsed": 16,
     "status": "ok",
     "timestamp": 1699930296029,
     "user": {
      "displayName": "Vinithkumar Alande",
      "userId": "11682185657316466666"
     },
     "user_tz": -330
    },
    "id": "e6USH1Q5mxXP",
    "outputId": "2f239f50-dcdb-4f1c-a07c-172515de77d0"
   },
   "outputs": [
    {
     "data": {
      "text/plain": [
       "name\n",
       "Mohammed Siraj     4\n",
       "Hardik Pandya      4\n",
       "Ravindra Jadeja    4\n",
       "Shardul Thakur     3\n",
       "Kuldeep Yadav      3\n",
       "Jasprit Bumrah     3\n",
       "Mohammed Shami     2\n",
       "Axar Patel         2\n",
       "Prasidh Krishna    1\n",
       "Tilak Verma        1\n",
       "Kudeep Yadav       1\n",
       "Name: count, dtype: int64"
      ]
     },
     "execution_count": 7,
     "metadata": {},
     "output_type": "execute_result"
    }
   ],
   "source": [
    "#names\n",
    "df['name'].value_counts()"
   ]
  },
  {
   "cell_type": "code",
   "execution_count": 8,
   "metadata": {
    "executionInfo": {
     "elapsed": 14,
     "status": "ok",
     "timestamp": 1699930296029,
     "user": {
      "displayName": "Vinithkumar Alande",
      "userId": "11682185657316466666"
     },
     "user_tz": -330
    },
    "id": "jdUbA7QlnQLe"
   },
   "outputs": [],
   "source": [
    "df[\"name\"].replace(['Mohammed Siraj'], 0, inplace=True)\n",
    "df[\"name\"].replace(['Hardik Pandya'], 1, inplace=True)\n",
    "df[\"name\"].replace(['Ravindra Jadeja'], 2, inplace=True)\n",
    "df[\"name\"].replace(['Shardul Thakur'], 3, inplace=True)\n",
    "df[\"name\"].replace(['Kuldeep Yadav'], 4, inplace=True)\n",
    "df[\"name\"].replace(['Jasprit Bumrah'], 5, inplace=True)\n",
    "df[\"name\"].replace(['Mohammed Shami'], 6, inplace=True)\n",
    "df[\"name\"].replace(['Axar Patel'], 7, inplace=True)\n",
    "df[\"name\"].replace(['Prasidh Krishna'], 8, inplace=True)\n",
    "df[\"name\"].replace(['Tilak Verma'], 9, inplace=True)\n",
    "df[\"name\"].replace(['Kudeep Yadav'], 10, inplace=True)\n",
    "\n",
    "df[\"name\"] = df[\"name\"].astype('int64')"
   ]
  },
  {
   "cell_type": "code",
   "execution_count": 9,
   "metadata": {
    "colab": {
     "base_uri": "https://localhost:8080/"
    },
    "executionInfo": {
     "elapsed": 14,
     "status": "ok",
     "timestamp": 1699930296030,
     "user": {
      "displayName": "Vinithkumar Alande",
      "userId": "11682185657316466666"
     },
     "user_tz": -330
    },
    "id": "PGtbUJcbph40",
    "outputId": "877506a0-450f-4020-8cec-69aede84bcb9"
   },
   "outputs": [
    {
     "data": {
      "text/plain": [
       "team_played_against\n",
       "Sri Lanka     10\n",
       "Nepal          6\n",
       "Pakistan       6\n",
       "Bangladesh     6\n",
       "Name: count, dtype: int64"
      ]
     },
     "execution_count": 9,
     "metadata": {},
     "output_type": "execute_result"
    }
   ],
   "source": [
    "#team_played_against\n",
    "df['team_played_against'].value_counts()"
   ]
  },
  {
   "cell_type": "code",
   "execution_count": 10,
   "metadata": {
    "executionInfo": {
     "elapsed": 12,
     "status": "ok",
     "timestamp": 1699930296030,
     "user": {
      "displayName": "Vinithkumar Alande",
      "userId": "11682185657316466666"
     },
     "user_tz": -330
    },
    "id": "awbX1sLQpsnR"
   },
   "outputs": [],
   "source": [
    "df[\"team_played_against\"].replace(['Sri Lanka'], 0, inplace=True)\n",
    "df[\"team_played_against\"].replace(['Nepal'], 1, inplace=True)\n",
    "df[\"team_played_against\"].replace(['Pakistan'], 2, inplace=True)\n",
    "df[\"team_played_against\"].replace(['Bangladesh'], 3, inplace=True)"
   ]
  },
  {
   "cell_type": "code",
   "execution_count": 11,
   "metadata": {
    "executionInfo": {
     "elapsed": 12,
     "status": "ok",
     "timestamp": 1699930296030,
     "user": {
      "displayName": "Vinithkumar Alande",
      "userId": "11682185657316466666"
     },
     "user_tz": -330
    },
    "id": "K_t0WcUtqBiA"
   },
   "outputs": [],
   "source": [
    "\n",
    "#overs_bowled\n",
    "df['overs_bowled'] = df['overs_bowled'].round().astype('int64')"
   ]
  },
  {
   "cell_type": "code",
   "execution_count": 12,
   "metadata": {
    "colab": {
     "base_uri": "https://localhost:8080/"
    },
    "executionInfo": {
     "elapsed": 12,
     "status": "ok",
     "timestamp": 1699930296030,
     "user": {
      "displayName": "Vinithkumar Alande",
      "userId": "11682185657316466666"
     },
     "user_tz": -330
    },
    "id": "8ASahHQvqZFh",
    "outputId": "897b9c7d-b54f-4671-b91a-6cf506c7a204"
   },
   "outputs": [
    {
     "data": {
      "text/plain": [
       "team_batting_first_or_second\n",
       "S    16\n",
       "F    12\n",
       "Name: count, dtype: int64"
      ]
     },
     "execution_count": 12,
     "metadata": {},
     "output_type": "execute_result"
    }
   ],
   "source": [
    "#team_batting_first_or_second\n",
    "df['team_batting_first_or_second'].value_counts()"
   ]
  },
  {
   "cell_type": "code",
   "execution_count": 13,
   "metadata": {
    "executionInfo": {
     "elapsed": 12,
     "status": "ok",
     "timestamp": 1699930296031,
     "user": {
      "displayName": "Vinithkumar Alande",
      "userId": "11682185657316466666"
     },
     "user_tz": -330
    },
    "id": "iiWATzggqtj8"
   },
   "outputs": [],
   "source": [
    "df[\"team_batting_first_or_second\"].replace(['S'], 0, inplace=True)\n",
    "df[\"team_batting_first_or_second\"].replace(['F'], 1, inplace=True)"
   ]
  },
  {
   "cell_type": "code",
   "execution_count": 14,
   "metadata": {
    "colab": {
     "base_uri": "https://localhost:8080/"
    },
    "executionInfo": {
     "elapsed": 815,
     "status": "ok",
     "timestamp": 1699930296834,
     "user": {
      "displayName": "Vinithkumar Alande",
      "userId": "11682185657316466666"
     },
     "user_tz": -330
    },
    "id": "SVMSktjvrLkk",
    "outputId": "279caf51-8a0d-41d9-98d2-0f42389da372"
   },
   "outputs": [
    {
     "data": {
      "text/plain": [
       "stadium\n",
       "R Premadasa    22\n",
       "Pallekele       6\n",
       "Name: count, dtype: int64"
      ]
     },
     "execution_count": 14,
     "metadata": {},
     "output_type": "execute_result"
    }
   ],
   "source": [
    "#stadium\n",
    "df['stadium'].value_counts()"
   ]
  },
  {
   "cell_type": "code",
   "execution_count": 15,
   "metadata": {
    "executionInfo": {
     "elapsed": 11,
     "status": "ok",
     "timestamp": 1699930296835,
     "user": {
      "displayName": "Vinithkumar Alande",
      "userId": "11682185657316466666"
     },
     "user_tz": -330
    },
    "id": "iItMAaJBrbXv"
   },
   "outputs": [],
   "source": [
    "df[\"stadium\"].replace(['R Premadasa'], 0, inplace=True)\n",
    "df[\"stadium\"].replace(['Pallekele'], 1, inplace=True)"
   ]
  },
  {
   "cell_type": "code",
   "execution_count": 16,
   "metadata": {
    "colab": {
     "base_uri": "https://localhost:8080/"
    },
    "executionInfo": {
     "elapsed": 11,
     "status": "ok",
     "timestamp": 1699930296835,
     "user": {
      "displayName": "Vinithkumar Alande",
      "userId": "11682185657316466666"
     },
     "user_tz": -330
    },
    "id": "MxK28af5rk3f",
    "outputId": "34dcccce-193c-4b8f-955e-3b17c30d112e"
   },
   "outputs": [
    {
     "data": {
      "text/plain": [
       "weather_conditions\n",
       "Clear    16\n",
       "Rain     12\n",
       "Name: count, dtype: int64"
      ]
     },
     "execution_count": 16,
     "metadata": {},
     "output_type": "execute_result"
    }
   ],
   "source": [
    "#weather_conditions\n",
    "df['weather_conditions'].value_counts()"
   ]
  },
  {
   "cell_type": "code",
   "execution_count": 17,
   "metadata": {
    "executionInfo": {
     "elapsed": 9,
     "status": "ok",
     "timestamp": 1699930296835,
     "user": {
      "displayName": "Vinithkumar Alande",
      "userId": "11682185657316466666"
     },
     "user_tz": -330
    },
    "id": "vORqOf5xrru3"
   },
   "outputs": [],
   "source": [
    "df[\"weather_conditions\"].replace(['Clear'], 0, inplace=True)\n",
    "df[\"weather_conditions\"].replace(['Rain'], 1, inplace=True)"
   ]
  },
  {
   "cell_type": "code",
   "execution_count": 18,
   "metadata": {
    "colab": {
     "base_uri": "https://localhost:8080/"
    },
    "executionInfo": {
     "elapsed": 10,
     "status": "ok",
     "timestamp": 1699930296836,
     "user": {
      "displayName": "Vinithkumar Alande",
      "userId": "11682185657316466666"
     },
     "user_tz": -330
    },
    "id": "fJPn8eW8r2-3",
    "outputId": "f1032e18-b75e-4d95-8dde-f7f79b1cd8c6"
   },
   "outputs": [
    {
     "data": {
      "text/plain": [
       "league\n",
       "Asia Cup    28\n",
       "Name: count, dtype: int64"
      ]
     },
     "execution_count": 18,
     "metadata": {},
     "output_type": "execute_result"
    }
   ],
   "source": [
    "#league\n",
    "df['league'].value_counts()"
   ]
  },
  {
   "cell_type": "code",
   "execution_count": 19,
   "metadata": {
    "executionInfo": {
     "elapsed": 8,
     "status": "ok",
     "timestamp": 1699930296836,
     "user": {
      "displayName": "Vinithkumar Alande",
      "userId": "11682185657316466666"
     },
     "user_tz": -330
    },
    "id": "EtppVe1wr-JH"
   },
   "outputs": [],
   "source": [
    "df[\"league\"].replace(['Asia Cup'], 0, inplace=True)"
   ]
  },
  {
   "cell_type": "code",
   "execution_count": 20,
   "metadata": {
    "colab": {
     "base_uri": "https://localhost:8080/"
    },
    "executionInfo": {
     "elapsed": 8,
     "status": "ok",
     "timestamp": 1699930296836,
     "user": {
      "displayName": "Vinithkumar Alande",
      "userId": "11682185657316466666"
     },
     "user_tz": -330
    },
    "id": "aq7lqB_NsFLv",
    "outputId": "28f9ecbb-1f93-410d-b6e5-55e3d13e1673"
   },
   "outputs": [
    {
     "data": {
      "text/plain": [
       "type\n",
       "ODI    28\n",
       "Name: count, dtype: int64"
      ]
     },
     "execution_count": 20,
     "metadata": {},
     "output_type": "execute_result"
    }
   ],
   "source": [
    "#type\n",
    "df['type'].value_counts()"
   ]
  },
  {
   "cell_type": "code",
   "execution_count": 21,
   "metadata": {
    "executionInfo": {
     "elapsed": 7,
     "status": "ok",
     "timestamp": 1699930296836,
     "user": {
      "displayName": "Vinithkumar Alande",
      "userId": "11682185657316466666"
     },
     "user_tz": -330
    },
    "id": "WRWKuYjmsPon"
   },
   "outputs": [],
   "source": [
    "df[\"type\"].replace(['ODI'], 0, inplace=True)"
   ]
  },
  {
   "cell_type": "code",
   "execution_count": 22,
   "metadata": {
    "colab": {
     "base_uri": "https://localhost:8080/"
    },
    "executionInfo": {
     "elapsed": 1875,
     "status": "ok",
     "timestamp": 1699930409388,
     "user": {
      "displayName": "Vinithkumar Alande",
      "userId": "11682185657316466666"
     },
     "user_tz": -330
    },
    "id": "OOrkmRW6sTIX",
    "outputId": "a2463752-3552-4c63-aec1-6b31732938d7"
   },
   "outputs": [
    {
     "name": "stdout",
     "output_type": "stream",
     "text": [
      "Mean Squared Error (Runs): 28.357104903532175\n",
      "Mean Squared Error (Wickets): 2.264333194503347\n"
     ]
    }
   ],
   "source": [
    "from sklearn.model_selection import train_test_split\n",
    "from sklearn.linear_model import Ridge\n",
    "from sklearn.multioutput import MultiOutputRegressor\n",
    "from sklearn.metrics import mean_squared_error\n",
    "\n",
    "X = df.drop(['runs', 'wickets'], axis=1)\n",
    "y = df[['runs', 'wickets']]\n",
    "\n",
    "X_train, X_test, y_train, y_test = train_test_split(X, y, test_size=0.2, random_state=42)\n",
    "\n",
    "base_regressor = Ridge()\n",
    "\n",
    "multi_output_regressor = MultiOutputRegressor(base_regressor)\n",
    "\n",
    "multi_output_regressor.fit(X_train, y_train)\n",
    "\n",
    "predictions = multi_output_regressor.predict(X_test)\n",
    "\n",
    "mse_runs = mean_squared_error(y_test['runs'], predictions[:, 0])\n",
    "mse_wickets = mean_squared_error(y_test['wickets'], predictions[:, 1])\n",
    "\n",
    "print(f'Mean Squared Error (Runs): {mse_runs}')\n",
    "print(f'Mean Squared Error (Wickets): {mse_wickets}')\n"
   ]
  },
  {
   "cell_type": "code",
   "execution_count": 23,
   "metadata": {
    "colab": {
     "base_uri": "https://localhost:8080/"
    },
    "executionInfo": {
     "elapsed": 400,
     "status": "ok",
     "timestamp": 1699930452136,
     "user": {
      "displayName": "Vinithkumar Alande",
      "userId": "11682185657316466666"
     },
     "user_tz": -330
    },
    "id": "9WbqkHz8v35c",
    "outputId": "79a16108-b2b0-487c-d062-abb73e3f0f04"
   },
   "outputs": [
    {
     "name": "stdout",
     "output_type": "stream",
     "text": [
      "Predicted Runs: 24.263635496459642\n",
      "Predicted Wickets: 0.5923989410798842\n"
     ]
    }
   ],
   "source": [
    "import pandas as pd\n",
    "\n",
    "# Assuming multi_output_regressor is your trained model\n",
    "# and X_train is the feature set used for training\n",
    "\n",
    "# Create a new DataFrame with your own values\n",
    "new_data = pd.DataFrame({\n",
    "    'name': [1],\n",
    "    'team_played_against': [1],\n",
    "    'overs_bowled': [4],\n",
    "    'team_batting_first_or_second': [0],\n",
    "    'stadium': [1],\n",
    "    'weather_conditions': [0],\n",
    "    'league': [0],\n",
    "    'type': [0]\n",
    "})\n",
    "\n",
    "# Use the trained model to make predictions on the new data\n",
    "predictions = multi_output_regressor.predict(new_data)\n",
    "\n",
    "# Extract the predicted values for runs and wickets\n",
    "predicted_runs = predictions[0, 0]\n",
    "predicted_wickets = predictions[0, 1]\n",
    "\n",
    "print(f'Predicted Runs: {predicted_runs}')\n",
    "print(f'Predicted Wickets: {predicted_wickets}')"
   ]
  },
  {
   "cell_type": "code",
   "execution_count": 24,
   "metadata": {
    "colab": {
     "base_uri": "https://localhost:8080/"
    },
    "executionInfo": {
     "elapsed": 6,
     "status": "ok",
     "timestamp": 1699930847621,
     "user": {
      "displayName": "Vinithkumar Alande",
      "userId": "11682185657316466666"
     },
     "user_tz": -330
    },
    "id": "dlWP3ggIwCsT",
    "outputId": "24ac3873-9d11-40e0-d0e2-63c13fc4b5d6"
   },
   "outputs": [
    {
     "name": "stdout",
     "output_type": "stream",
     "text": [
      "Predicted Runs: 46.590026002556684\n",
      "Predicted Wickets: 2.215756870842516\n"
     ]
    }
   ],
   "source": [
    "import pandas as pd\n",
    "\n",
    "# Assuming multi_output_regressor is your trained model\n",
    "# and X_train is the feature set used for training\n",
    "\n",
    "# Create a new DataFrame with your own values\n",
    "new_data = pd.DataFrame({\n",
    "    'name': [1],\n",
    "    'team_played_against': [1],\n",
    "    'overs_bowled': [10],\n",
    "    'team_batting_first_or_second': [0],\n",
    "    'stadium': [1],\n",
    "    'weather_conditions': [1],\n",
    "    'league': [0],\n",
    "    'type': [0]\n",
    "})\n",
    "\n",
    "# Use the trained model to make predictions on the new data\n",
    "predictions = multi_output_regressor.predict(new_data)\n",
    "\n",
    "# Extract the predicted values for runs and wickets\n",
    "predicted_runs = predictions[0, 0]\n",
    "predicted_wickets = predictions[0, 1]\n",
    "\n",
    "print(f'Predicted Runs: {predicted_runs}')\n",
    "print(f'Predicted Wickets: {predicted_wickets}')"
   ]
  },
  {
   "cell_type": "code",
   "execution_count": 25,
   "metadata": {
    "id": "3wVOZC81xcoz"
   },
   "outputs": [
    {
     "data": {
      "text/plain": [
       "['bowlers_prediction.pkl']"
      ]
     },
     "execution_count": 25,
     "metadata": {},
     "output_type": "execute_result"
    }
   ],
   "source": [
    "import joblib\n",
    "\n",
    "joblib.dump(multi_output_regressor, 'bowlers_prediction.pkl')"
   ]
  }
 ],
 "metadata": {
  "colab": {
   "authorship_tag": "ABX9TyNagRGDcheBJmxMm1Ui1CVO",
   "provenance": []
  },
  "kernelspec": {
   "display_name": "Python 3 (ipykernel)",
   "language": "python",
   "name": "python3"
  },
  "language_info": {
   "codemirror_mode": {
    "name": "ipython",
    "version": 3
   },
   "file_extension": ".py",
   "mimetype": "text/x-python",
   "name": "python",
   "nbconvert_exporter": "python",
   "pygments_lexer": "ipython3",
   "version": "3.12.0"
  }
 },
 "nbformat": 4,
 "nbformat_minor": 1
}
