{
 "cells": [
  {
   "cell_type": "code",
   "execution_count": 1,
   "metadata": {
    "executionInfo": {
     "elapsed": 1639,
     "status": "ok",
     "timestamp": 1699930271319,
     "user": {
      "displayName": "Vinithkumar Alande",
      "userId": "11682185657316466666"
     },
     "user_tz": -330
    },
    "id": "hQxQLRkGlrqN"
   },
   "outputs": [],
   "source": [
    "import pandas as pd\n",
    "import numpy as np\n",
    "from sklearn.model_selection import train_test_split"
   ]
  },
  {
   "cell_type": "code",
   "execution_count": 2,
   "metadata": {
    "colab": {
     "base_uri": "https://localhost:8080/"
    },
    "executionInfo": {
     "elapsed": 17215,
     "status": "ok",
     "timestamp": 1699930295333,
     "user": {
      "displayName": "Vinithkumar Alande",
      "userId": "11682185657316466666"
     },
     "user_tz": -330
    },
    "id": "lnjFup_Bl9lW",
    "outputId": "345b504d-7888-47fa-e3b0-4eb980a4c40d"
   },
   "outputs": [],
   "source": [
    "###from google.colab import drive\n",
    "###drive.mount('/content/drive')"
   ]
  },
  {
   "cell_type": "code",
   "execution_count": 3,
   "metadata": {
    "colab": {
     "base_uri": "https://localhost:8080/"
    },
    "executionInfo": {
     "elapsed": 6,
     "status": "ok",
     "timestamp": 1699930295333,
     "user": {
      "displayName": "Vinithkumar Alande",
      "userId": "11682185657316466666"
     },
     "user_tz": -330
    },
    "id": "UQ-sACCvmBBt",
    "outputId": "30dab4c6-30e7-4c6e-b9b0-649ef7b01d80"
   },
   "outputs": [],
   "source": [
    "#%cd /content/drive/MyDrive/Colab Notebooks"
   ]
  },
  {
   "cell_type": "code",
   "execution_count": 4,
   "metadata": {
    "executionInfo": {
     "elapsed": 698,
     "status": "ok",
     "timestamp": 1699930296029,
     "user": {
      "displayName": "Vinithkumar Alande",
      "userId": "11682185657316466666"
     },
     "user_tz": -330
    },
    "id": "Vx3GJ6n1mGp9"
   },
   "outputs": [],
   "source": [
    "df = pd.read_csv('batters.csv')"
   ]
  },
  {
   "cell_type": "code",
   "execution_count": 5,
   "metadata": {
    "colab": {
     "base_uri": "https://localhost:8080/",
     "height": 206
    },
    "executionInfo": {
     "elapsed": 6,
     "status": "ok",
     "timestamp": 1699930305450,
     "user": {
      "displayName": "Vinithkumar Alande",
      "userId": "11682185657316466666"
     },
     "user_tz": -330
    },
    "id": "HomQlPT5mK8d",
    "outputId": "e866bc2c-01d6-495d-95fc-704372b3aba7"
   },
   "outputs": [
    {
     "data": {
      "text/html": [
       "<div>\n",
       "<style scoped>\n",
       "    .dataframe tbody tr th:only-of-type {\n",
       "        vertical-align: middle;\n",
       "    }\n",
       "\n",
       "    .dataframe tbody tr th {\n",
       "        vertical-align: top;\n",
       "    }\n",
       "\n",
       "    .dataframe thead th {\n",
       "        text-align: right;\n",
       "    }\n",
       "</style>\n",
       "<table border=\"1\" class=\"dataframe\">\n",
       "  <thead>\n",
       "    <tr style=\"text-align: right;\">\n",
       "      <th></th>\n",
       "      <th>name</th>\n",
       "      <th>team_played_against</th>\n",
       "      <th>runs</th>\n",
       "      <th>balls</th>\n",
       "      <th>fours</th>\n",
       "      <th>sixes</th>\n",
       "      <th>team_batting_first_or_second</th>\n",
       "      <th>stadium</th>\n",
       "      <th>weather_conditions</th>\n",
       "      <th>league</th>\n",
       "      <th>type</th>\n",
       "    </tr>\n",
       "  </thead>\n",
       "  <tbody>\n",
       "    <tr>\n",
       "      <th>0</th>\n",
       "      <td>Ishan Kishan</td>\n",
       "      <td>Sri Lanka</td>\n",
       "      <td>23</td>\n",
       "      <td>18</td>\n",
       "      <td>3</td>\n",
       "      <td>0</td>\n",
       "      <td>S</td>\n",
       "      <td>R Premadasa</td>\n",
       "      <td>Clear</td>\n",
       "      <td>Asia Cup</td>\n",
       "      <td>ODI</td>\n",
       "    </tr>\n",
       "    <tr>\n",
       "      <th>1</th>\n",
       "      <td>Shubman Gill</td>\n",
       "      <td>Sri Lanka</td>\n",
       "      <td>27</td>\n",
       "      <td>19</td>\n",
       "      <td>6</td>\n",
       "      <td>0</td>\n",
       "      <td>S</td>\n",
       "      <td>R Premadasa</td>\n",
       "      <td>Clear</td>\n",
       "      <td>Asia Cup</td>\n",
       "      <td>ODI</td>\n",
       "    </tr>\n",
       "    <tr>\n",
       "      <th>2</th>\n",
       "      <td>Rohit Sharma</td>\n",
       "      <td>Bangladesh</td>\n",
       "      <td>0</td>\n",
       "      <td>2</td>\n",
       "      <td>0</td>\n",
       "      <td>0</td>\n",
       "      <td>S</td>\n",
       "      <td>R Premadasa</td>\n",
       "      <td>Clear</td>\n",
       "      <td>Asia Cup</td>\n",
       "      <td>ODI</td>\n",
       "    </tr>\n",
       "    <tr>\n",
       "      <th>3</th>\n",
       "      <td>Shubman Gill</td>\n",
       "      <td>Bangladesh</td>\n",
       "      <td>121</td>\n",
       "      <td>133</td>\n",
       "      <td>8</td>\n",
       "      <td>5</td>\n",
       "      <td>S</td>\n",
       "      <td>R Premadasa</td>\n",
       "      <td>Clear</td>\n",
       "      <td>Asia Cup</td>\n",
       "      <td>ODI</td>\n",
       "    </tr>\n",
       "    <tr>\n",
       "      <th>4</th>\n",
       "      <td>Tilak Varma</td>\n",
       "      <td>Bangladesh</td>\n",
       "      <td>5</td>\n",
       "      <td>9</td>\n",
       "      <td>1</td>\n",
       "      <td>0</td>\n",
       "      <td>S</td>\n",
       "      <td>R Premadasa</td>\n",
       "      <td>Clear</td>\n",
       "      <td>Asia Cup</td>\n",
       "      <td>ODI</td>\n",
       "    </tr>\n",
       "  </tbody>\n",
       "</table>\n",
       "</div>"
      ],
      "text/plain": [
       "           name team_played_against  runs  balls  fours  sixes  \\\n",
       "0  Ishan Kishan           Sri Lanka    23     18      3      0   \n",
       "1  Shubman Gill           Sri Lanka    27     19      6      0   \n",
       "2  Rohit Sharma          Bangladesh     0      2      0      0   \n",
       "3  Shubman Gill          Bangladesh   121    133      8      5   \n",
       "4   Tilak Varma          Bangladesh     5      9      1      0   \n",
       "\n",
       "  team_batting_first_or_second      stadium weather_conditions    league type  \n",
       "0                            S  R Premadasa              Clear  Asia Cup  ODI  \n",
       "1                            S  R Premadasa              Clear  Asia Cup  ODI  \n",
       "2                            S  R Premadasa              Clear  Asia Cup  ODI  \n",
       "3                            S  R Premadasa              Clear  Asia Cup  ODI  \n",
       "4                            S  R Premadasa              Clear  Asia Cup  ODI  "
      ]
     },
     "execution_count": 5,
     "metadata": {},
     "output_type": "execute_result"
    }
   ],
   "source": [
    "df.head()"
   ]
  },
  {
   "cell_type": "code",
   "execution_count": 6,
   "metadata": {
    "colab": {
     "base_uri": "https://localhost:8080/"
    },
    "executionInfo": {
     "elapsed": 4,
     "status": "ok",
     "timestamp": 1699930306942,
     "user": {
      "displayName": "Vinithkumar Alande",
      "userId": "11682185657316466666"
     },
     "user_tz": -330
    },
    "id": "YJwvzT8zmNKV",
    "outputId": "d1c79a46-f5b4-4a12-8659-96fde3c6da17"
   },
   "outputs": [
    {
     "name": "stdout",
     "output_type": "stream",
     "text": [
      "<class 'pandas.core.frame.DataFrame'>\n",
      "RangeIndex: 41 entries, 0 to 40\n",
      "Data columns (total 11 columns):\n",
      " #   Column                        Non-Null Count  Dtype \n",
      "---  ------                        --------------  ----- \n",
      " 0   name                          41 non-null     object\n",
      " 1   team_played_against           41 non-null     object\n",
      " 2   runs                          41 non-null     int64 \n",
      " 3   balls                         41 non-null     int64 \n",
      " 4   fours                         41 non-null     int64 \n",
      " 5   sixes                         41 non-null     int64 \n",
      " 6   team_batting_first_or_second  41 non-null     object\n",
      " 7   stadium                       41 non-null     object\n",
      " 8   weather_conditions            41 non-null     object\n",
      " 9   league                        41 non-null     object\n",
      " 10  type                          41 non-null     object\n",
      "dtypes: int64(4), object(7)\n",
      "memory usage: 3.7+ KB\n"
     ]
    }
   ],
   "source": [
    "df.info()"
   ]
  },
  {
   "cell_type": "code",
   "execution_count": 7,
   "metadata": {
    "colab": {
     "base_uri": "https://localhost:8080/"
    },
    "executionInfo": {
     "elapsed": 16,
     "status": "ok",
     "timestamp": 1699930296029,
     "user": {
      "displayName": "Vinithkumar Alande",
      "userId": "11682185657316466666"
     },
     "user_tz": -330
    },
    "id": "e6USH1Q5mxXP",
    "outputId": "2f239f50-dcdb-4f1c-a07c-172515de77d0"
   },
   "outputs": [
    {
     "data": {
      "text/plain": [
       "name\n",
       "Shubman Gill        6\n",
       "Rohit Sharma        5\n",
       "Ishan Kishan        4\n",
       "Virat Kohli         3\n",
       "KL Rahul            3\n",
       "Ravindra Jadeja     3\n",
       "Mohammed Siraj      2\n",
       "Kuldeep Yadav       2\n",
       "Jasprit Bumrah      2\n",
       "Hardik Pandya       2\n",
       "Shardul Thakur      2\n",
       "Axar Patel          2\n",
       "Prasidh Krishna     1\n",
       "Mohammed Shami      1\n",
       "Suryakumar Yadav    1\n",
       "Tilak Varma         1\n",
       "Shreyas Iyer        1\n",
       "Name: count, dtype: int64"
      ]
     },
     "execution_count": 7,
     "metadata": {},
     "output_type": "execute_result"
    }
   ],
   "source": [
    "#names\n",
    "df['name'].value_counts()"
   ]
  },
  {
   "cell_type": "code",
   "execution_count": 8,
   "metadata": {
    "executionInfo": {
     "elapsed": 14,
     "status": "ok",
     "timestamp": 1699930296029,
     "user": {
      "displayName": "Vinithkumar Alande",
      "userId": "11682185657316466666"
     },
     "user_tz": -330
    },
    "id": "jdUbA7QlnQLe"
   },
   "outputs": [],
   "source": [
    "df[\"name\"].replace(['Shubman Gill'], 0, inplace=True)\n",
    "df[\"name\"].replace(['Rohit Sharma'], 1, inplace=True)\n",
    "df[\"name\"].replace(['Ishan Kishan'], 2, inplace=True)\n",
    "df[\"name\"].replace(['Virat Kohli'], 3, inplace=True)\n",
    "df[\"name\"].replace(['KL Rahul'], 4, inplace=True)\n",
    "df[\"name\"].replace(['Ravindra Jadeja'], 5, inplace=True)\n",
    "df[\"name\"].replace(['Mohammed Shami'], 6, inplace=True)\n",
    "df[\"name\"].replace(['Kuldeep Yadav'], 7, inplace=True)\n",
    "df[\"name\"].replace(['Jasprit Bumrah'], 8, inplace=True)\n",
    "df[\"name\"].replace(['Hardik Pandya'], 9, inplace=True)\n",
    "df[\"name\"].replace(['Shardul Thakur'], 10, inplace=True)\n",
    "df[\"name\"].replace(['Axar Patel'], 11, inplace=True)\n",
    "df[\"name\"].replace(['Prasidh Krishna'], 12, inplace=True)\n",
    "df[\"name\"].replace(['Mohammed Shami'], 13, inplace=True)\n",
    "df[\"name\"].replace(['Suryakumar Yadav'], 14, inplace=True)\n",
    "df[\"name\"].replace(['Tilak Varma'], 15, inplace=True)\n",
    "df[\"name\"].replace(['Shreyas Iyer'], 16, inplace=True)\n",
    "df[\"name\"].replace(['Mohammed Siraj'], 17, inplace=True)"
   ]
  },
  {
   "cell_type": "code",
   "execution_count": 9,
   "metadata": {
    "colab": {
     "base_uri": "https://localhost:8080/"
    },
    "executionInfo": {
     "elapsed": 14,
     "status": "ok",
     "timestamp": 1699930296030,
     "user": {
      "displayName": "Vinithkumar Alande",
      "userId": "11682185657316466666"
     },
     "user_tz": -330
    },
    "id": "PGtbUJcbph40",
    "outputId": "877506a0-450f-4020-8cec-69aede84bcb9"
   },
   "outputs": [
    {
     "data": {
      "text/plain": [
       "team_played_against\n",
       "Pakistan      15\n",
       "Sri Lanka     13\n",
       "Bangladesh    11\n",
       "Nepal          2\n",
       "Name: count, dtype: int64"
      ]
     },
     "execution_count": 9,
     "metadata": {},
     "output_type": "execute_result"
    }
   ],
   "source": [
    "#team_played_against\n",
    "df['team_played_against'].value_counts()"
   ]
  },
  {
   "cell_type": "code",
   "execution_count": 10,
   "metadata": {
    "executionInfo": {
     "elapsed": 12,
     "status": "ok",
     "timestamp": 1699930296030,
     "user": {
      "displayName": "Vinithkumar Alande",
      "userId": "11682185657316466666"
     },
     "user_tz": -330
    },
    "id": "awbX1sLQpsnR"
   },
   "outputs": [],
   "source": [
    "df[\"team_played_against\"].replace(['Sri Lanka'], 0, inplace=True)\n",
    "df[\"team_played_against\"].replace(['Nepal'], 1, inplace=True)\n",
    "df[\"team_played_against\"].replace(['Pakistan'], 2, inplace=True)\n",
    "df[\"team_played_against\"].replace(['Bangladesh'], 3, inplace=True)"
   ]
  },
  {
   "cell_type": "code",
   "execution_count": 11,
   "metadata": {
    "colab": {
     "base_uri": "https://localhost:8080/"
    },
    "executionInfo": {
     "elapsed": 12,
     "status": "ok",
     "timestamp": 1699930296030,
     "user": {
      "displayName": "Vinithkumar Alande",
      "userId": "11682185657316466666"
     },
     "user_tz": -330
    },
    "id": "8ASahHQvqZFh",
    "outputId": "897b9c7d-b54f-4671-b91a-6cf506c7a204"
   },
   "outputs": [
    {
     "data": {
      "text/plain": [
       "team_batting_first_or_second\n",
       "F    26\n",
       "S    15\n",
       "Name: count, dtype: int64"
      ]
     },
     "execution_count": 11,
     "metadata": {},
     "output_type": "execute_result"
    }
   ],
   "source": [
    "#team_batting_first_or_second\n",
    "df['team_batting_first_or_second'].value_counts()"
   ]
  },
  {
   "cell_type": "code",
   "execution_count": 12,
   "metadata": {
    "executionInfo": {
     "elapsed": 12,
     "status": "ok",
     "timestamp": 1699930296031,
     "user": {
      "displayName": "Vinithkumar Alande",
      "userId": "11682185657316466666"
     },
     "user_tz": -330
    },
    "id": "iiWATzggqtj8"
   },
   "outputs": [],
   "source": [
    "df[\"team_batting_first_or_second\"].replace(['S'], 0, inplace=True)\n",
    "df[\"team_batting_first_or_second\"].replace(['F'], 1, inplace=True)"
   ]
  },
  {
   "cell_type": "code",
   "execution_count": 13,
   "metadata": {
    "colab": {
     "base_uri": "https://localhost:8080/"
    },
    "executionInfo": {
     "elapsed": 815,
     "status": "ok",
     "timestamp": 1699930296834,
     "user": {
      "displayName": "Vinithkumar Alande",
      "userId": "11682185657316466666"
     },
     "user_tz": -330
    },
    "id": "SVMSktjvrLkk",
    "outputId": "279caf51-8a0d-41d9-98d2-0f42389da372"
   },
   "outputs": [
    {
     "data": {
      "text/plain": [
       "stadium\n",
       "R Premadasa    28\n",
       "Pallekele      13\n",
       "Name: count, dtype: int64"
      ]
     },
     "execution_count": 13,
     "metadata": {},
     "output_type": "execute_result"
    }
   ],
   "source": [
    "#stadium\n",
    "df['stadium'].value_counts()"
   ]
  },
  {
   "cell_type": "code",
   "execution_count": 14,
   "metadata": {
    "executionInfo": {
     "elapsed": 11,
     "status": "ok",
     "timestamp": 1699930296835,
     "user": {
      "displayName": "Vinithkumar Alande",
      "userId": "11682185657316466666"
     },
     "user_tz": -330
    },
    "id": "iItMAaJBrbXv"
   },
   "outputs": [],
   "source": [
    "df[\"stadium\"].replace(['R Premadasa'], 0, inplace=True)\n",
    "df[\"stadium\"].replace(['Pallekele'], 1, inplace=True)"
   ]
  },
  {
   "cell_type": "code",
   "execution_count": 15,
   "metadata": {
    "colab": {
     "base_uri": "https://localhost:8080/"
    },
    "executionInfo": {
     "elapsed": 11,
     "status": "ok",
     "timestamp": 1699930296835,
     "user": {
      "displayName": "Vinithkumar Alande",
      "userId": "11682185657316466666"
     },
     "user_tz": -330
    },
    "id": "MxK28af5rk3f",
    "outputId": "34dcccce-193c-4b8f-955e-3b17c30d112e"
   },
   "outputs": [
    {
     "data": {
      "text/plain": [
       "weather_conditions\n",
       "Clear    28\n",
       "Rain     13\n",
       "Name: count, dtype: int64"
      ]
     },
     "execution_count": 15,
     "metadata": {},
     "output_type": "execute_result"
    }
   ],
   "source": [
    "#weather_conditions\n",
    "df['weather_conditions'].value_counts()"
   ]
  },
  {
   "cell_type": "code",
   "execution_count": 16,
   "metadata": {
    "executionInfo": {
     "elapsed": 9,
     "status": "ok",
     "timestamp": 1699930296835,
     "user": {
      "displayName": "Vinithkumar Alande",
      "userId": "11682185657316466666"
     },
     "user_tz": -330
    },
    "id": "vORqOf5xrru3"
   },
   "outputs": [],
   "source": [
    "df[\"weather_conditions\"].replace(['Clear'], 0, inplace=True)\n",
    "df[\"weather_conditions\"].replace(['Rain'], 1, inplace=True)"
   ]
  },
  {
   "cell_type": "code",
   "execution_count": 17,
   "metadata": {
    "colab": {
     "base_uri": "https://localhost:8080/"
    },
    "executionInfo": {
     "elapsed": 10,
     "status": "ok",
     "timestamp": 1699930296836,
     "user": {
      "displayName": "Vinithkumar Alande",
      "userId": "11682185657316466666"
     },
     "user_tz": -330
    },
    "id": "fJPn8eW8r2-3",
    "outputId": "f1032e18-b75e-4d95-8dde-f7f79b1cd8c6"
   },
   "outputs": [
    {
     "data": {
      "text/plain": [
       "league\n",
       "Asia Cup    41\n",
       "Name: count, dtype: int64"
      ]
     },
     "execution_count": 17,
     "metadata": {},
     "output_type": "execute_result"
    }
   ],
   "source": [
    "#league\n",
    "df['league'].value_counts()"
   ]
  },
  {
   "cell_type": "code",
   "execution_count": 18,
   "metadata": {
    "executionInfo": {
     "elapsed": 8,
     "status": "ok",
     "timestamp": 1699930296836,
     "user": {
      "displayName": "Vinithkumar Alande",
      "userId": "11682185657316466666"
     },
     "user_tz": -330
    },
    "id": "EtppVe1wr-JH"
   },
   "outputs": [],
   "source": [
    "df[\"league\"].replace(['Asia Cup'], 0, inplace=True)"
   ]
  },
  {
   "cell_type": "code",
   "execution_count": 19,
   "metadata": {
    "colab": {
     "base_uri": "https://localhost:8080/"
    },
    "executionInfo": {
     "elapsed": 8,
     "status": "ok",
     "timestamp": 1699930296836,
     "user": {
      "displayName": "Vinithkumar Alande",
      "userId": "11682185657316466666"
     },
     "user_tz": -330
    },
    "id": "aq7lqB_NsFLv",
    "outputId": "28f9ecbb-1f93-410d-b6e5-55e3d13e1673"
   },
   "outputs": [
    {
     "data": {
      "text/plain": [
       "type\n",
       "ODI    41\n",
       "Name: count, dtype: int64"
      ]
     },
     "execution_count": 19,
     "metadata": {},
     "output_type": "execute_result"
    }
   ],
   "source": [
    "#type\n",
    "df['type'].value_counts()"
   ]
  },
  {
   "cell_type": "code",
   "execution_count": 20,
   "metadata": {
    "executionInfo": {
     "elapsed": 7,
     "status": "ok",
     "timestamp": 1699930296836,
     "user": {
      "displayName": "Vinithkumar Alande",
      "userId": "11682185657316466666"
     },
     "user_tz": -330
    },
    "id": "WRWKuYjmsPon"
   },
   "outputs": [],
   "source": [
    "df[\"type\"].replace(['ODI'], 0, inplace=True)"
   ]
  },
  {
   "cell_type": "code",
   "execution_count": 21,
   "metadata": {},
   "outputs": [
    {
     "data": {
      "text/html": [
       "<div>\n",
       "<style scoped>\n",
       "    .dataframe tbody tr th:only-of-type {\n",
       "        vertical-align: middle;\n",
       "    }\n",
       "\n",
       "    .dataframe tbody tr th {\n",
       "        vertical-align: top;\n",
       "    }\n",
       "\n",
       "    .dataframe thead th {\n",
       "        text-align: right;\n",
       "    }\n",
       "</style>\n",
       "<table border=\"1\" class=\"dataframe\">\n",
       "  <thead>\n",
       "    <tr style=\"text-align: right;\">\n",
       "      <th></th>\n",
       "      <th>name</th>\n",
       "      <th>team_played_against</th>\n",
       "      <th>runs</th>\n",
       "      <th>balls</th>\n",
       "      <th>fours</th>\n",
       "      <th>sixes</th>\n",
       "      <th>team_batting_first_or_second</th>\n",
       "      <th>stadium</th>\n",
       "      <th>weather_conditions</th>\n",
       "      <th>league</th>\n",
       "      <th>type</th>\n",
       "    </tr>\n",
       "  </thead>\n",
       "  <tbody>\n",
       "    <tr>\n",
       "      <th>0</th>\n",
       "      <td>2</td>\n",
       "      <td>0</td>\n",
       "      <td>23</td>\n",
       "      <td>18</td>\n",
       "      <td>3</td>\n",
       "      <td>0</td>\n",
       "      <td>0</td>\n",
       "      <td>0</td>\n",
       "      <td>0</td>\n",
       "      <td>0</td>\n",
       "      <td>0</td>\n",
       "    </tr>\n",
       "    <tr>\n",
       "      <th>1</th>\n",
       "      <td>0</td>\n",
       "      <td>0</td>\n",
       "      <td>27</td>\n",
       "      <td>19</td>\n",
       "      <td>6</td>\n",
       "      <td>0</td>\n",
       "      <td>0</td>\n",
       "      <td>0</td>\n",
       "      <td>0</td>\n",
       "      <td>0</td>\n",
       "      <td>0</td>\n",
       "    </tr>\n",
       "    <tr>\n",
       "      <th>2</th>\n",
       "      <td>1</td>\n",
       "      <td>3</td>\n",
       "      <td>0</td>\n",
       "      <td>2</td>\n",
       "      <td>0</td>\n",
       "      <td>0</td>\n",
       "      <td>0</td>\n",
       "      <td>0</td>\n",
       "      <td>0</td>\n",
       "      <td>0</td>\n",
       "      <td>0</td>\n",
       "    </tr>\n",
       "    <tr>\n",
       "      <th>3</th>\n",
       "      <td>0</td>\n",
       "      <td>3</td>\n",
       "      <td>121</td>\n",
       "      <td>133</td>\n",
       "      <td>8</td>\n",
       "      <td>5</td>\n",
       "      <td>0</td>\n",
       "      <td>0</td>\n",
       "      <td>0</td>\n",
       "      <td>0</td>\n",
       "      <td>0</td>\n",
       "    </tr>\n",
       "    <tr>\n",
       "      <th>4</th>\n",
       "      <td>15</td>\n",
       "      <td>3</td>\n",
       "      <td>5</td>\n",
       "      <td>9</td>\n",
       "      <td>1</td>\n",
       "      <td>0</td>\n",
       "      <td>0</td>\n",
       "      <td>0</td>\n",
       "      <td>0</td>\n",
       "      <td>0</td>\n",
       "      <td>0</td>\n",
       "    </tr>\n",
       "  </tbody>\n",
       "</table>\n",
       "</div>"
      ],
      "text/plain": [
       "   name  team_played_against  runs  balls  fours  sixes  \\\n",
       "0     2                    0    23     18      3      0   \n",
       "1     0                    0    27     19      6      0   \n",
       "2     1                    3     0      2      0      0   \n",
       "3     0                    3   121    133      8      5   \n",
       "4    15                    3     5      9      1      0   \n",
       "\n",
       "   team_batting_first_or_second  stadium  weather_conditions  league  type  \n",
       "0                             0        0                   0       0     0  \n",
       "1                             0        0                   0       0     0  \n",
       "2                             0        0                   0       0     0  \n",
       "3                             0        0                   0       0     0  \n",
       "4                             0        0                   0       0     0  "
      ]
     },
     "execution_count": 21,
     "metadata": {},
     "output_type": "execute_result"
    }
   ],
   "source": [
    "df.head()"
   ]
  },
  {
   "cell_type": "code",
   "execution_count": 22,
   "metadata": {},
   "outputs": [],
   "source": [
    "# Concatenate 'fours' and 'sixes' into a new column 'boundaries'\n",
    "df['boundaries'] = df['fours'].astype(int) + df['sixes'].astype(int)\n",
    "\n",
    "# Drop the original 'fours' and 'sixes' columns\n",
    "df.drop(['fours', 'sixes'], axis=1, inplace=True)"
   ]
  },
  {
   "cell_type": "code",
   "execution_count": 23,
   "metadata": {
    "colab": {
     "base_uri": "https://localhost:8080/"
    },
    "executionInfo": {
     "elapsed": 1875,
     "status": "ok",
     "timestamp": 1699930409388,
     "user": {
      "displayName": "Vinithkumar Alande",
      "userId": "11682185657316466666"
     },
     "user_tz": -330
    },
    "id": "OOrkmRW6sTIX",
    "outputId": "a2463752-3552-4c63-aec1-6b31732938d7"
   },
   "outputs": [
    {
     "name": "stdout",
     "output_type": "stream",
     "text": [
      "Mean Squared Error (Runs): 72.86546578694615\n",
      "Mean Squared Error (Boundaries): 11.05163899122912\n"
     ]
    }
   ],
   "source": [
    "from sklearn.model_selection import train_test_split\n",
    "from sklearn.linear_model import Ridge\n",
    "from sklearn.multioutput import MultiOutputRegressor\n",
    "from sklearn.metrics import mean_squared_error\n",
    "\n",
    "X = df.drop(['runs', 'boundaries'], axis=1)\n",
    "y = df[['runs', 'boundaries']]\n",
    "\n",
    "X_train, X_test, y_train, y_test = train_test_split(X, y, test_size=0.2, random_state=42)\n",
    "\n",
    "base_regressor = Ridge()  # Use Ridge regression instead of RandomForestRegressor\n",
    "\n",
    "multi_output_regressor = MultiOutputRegressor(base_regressor)\n",
    "\n",
    "multi_output_regressor.fit(X_train, y_train)\n",
    "\n",
    "predictions = multi_output_regressor.predict(X_test)\n",
    "\n",
    "mse_runs = mean_squared_error(y_test['runs'], predictions[:, 0])\n",
    "mse_boundaries = mean_squared_error(y_test['boundaries'], predictions[:, 1])\n",
    "\n",
    "print(f'Mean Squared Error (Runs): {mse_runs}')\n",
    "print(f'Mean Squared Error (Boundaries): {mse_boundaries}')\n"
   ]
  },
  {
   "cell_type": "code",
   "execution_count": 24,
   "metadata": {
    "colab": {
     "base_uri": "https://localhost:8080/"
    },
    "executionInfo": {
     "elapsed": 400,
     "status": "ok",
     "timestamp": 1699930452136,
     "user": {
      "displayName": "Vinithkumar Alande",
      "userId": "11682185657316466666"
     },
     "user_tz": -330
    },
    "id": "9WbqkHz8v35c",
    "outputId": "79a16108-b2b0-487c-d062-abb73e3f0f04"
   },
   "outputs": [
    {
     "name": "stdout",
     "output_type": "stream",
     "text": [
      "Predicted Runs: 23.63299864200803\n",
      "Predicted Boundaries: 3.55604407267206\n"
     ]
    }
   ],
   "source": [
    "import pandas as pd\n",
    "\n",
    "# Assuming multi_output_regressor is your trained model\n",
    "# and X_train is the feature set used for training\n",
    "\n",
    "# Create a new DataFrame with your own values\n",
    "new_data = pd.DataFrame({\n",
    "    'name': [3],\n",
    "    'team_played_against': [2],\n",
    "    'balls': [25],\n",
    "    'team_batting_first_or_second': [0],\n",
    "    'stadium': [1],\n",
    "    'weather_conditions': [0],\n",
    "    'league': [0],\n",
    "    'type': [0],\n",
    "})\n",
    "\n",
    "# Use the trained model to make predictions on the new data\n",
    "predictions = multi_output_regressor.predict(new_data)\n",
    "\n",
    "# Extract the predicted values for runs and wickets\n",
    "predicted_runs = predictions[0, 0]\n",
    "predicted_boundaries = predictions[0, 1]\n",
    "\n",
    "print(f'Predicted Runs: {predicted_runs}')\n",
    "print(f'Predicted Boundaries: {predicted_boundaries}')"
   ]
  },
  {
   "cell_type": "code",
   "execution_count": 25,
   "metadata": {
    "colab": {
     "base_uri": "https://localhost:8080/"
    },
    "executionInfo": {
     "elapsed": 6,
     "status": "ok",
     "timestamp": 1699930847621,
     "user": {
      "displayName": "Vinithkumar Alande",
      "userId": "11682185657316466666"
     },
     "user_tz": -330
    },
    "id": "dlWP3ggIwCsT",
    "outputId": "24ac3873-9d11-40e0-d0e2-63c13fc4b5d6"
   },
   "outputs": [
    {
     "name": "stdout",
     "output_type": "stream",
     "text": [
      "Predicted Runs: 23.426967347463798\n",
      "Predicted Boundaries: 3.5819385408367483\n"
     ]
    }
   ],
   "source": [
    "# Assuming multi_output_regressor is your trained model\n",
    "# and X_train is the feature set used for training\n",
    "\n",
    "# Create a new DataFrame with your own values\n",
    "new_data = pd.DataFrame({\n",
    "    'name': [2],\n",
    "    'team_played_against': [2],\n",
    "    'balls': [25],\n",
    "    'team_batting_first_or_second': [0],\n",
    "    'stadium': [1],\n",
    "    'weather_conditions': [0],\n",
    "    'league': [0],\n",
    "    'type': [0],\n",
    "})\n",
    "\n",
    "# Use the trained model to make predictions on the new data\n",
    "predictions = multi_output_regressor.predict(new_data)\n",
    "\n",
    "# Extract the predicted values for runs and wickets\n",
    "predicted_runs = predictions[0, 0]\n",
    "predicted_boundaries = predictions[0, 1]\n",
    "\n",
    "print(f'Predicted Runs: {predicted_runs}')\n",
    "print(f'Predicted Boundaries: {predicted_boundaries}')"
   ]
  },
  {
   "cell_type": "code",
   "execution_count": 26,
   "metadata": {
    "id": "3wVOZC81xcoz"
   },
   "outputs": [
    {
     "data": {
      "text/plain": [
       "['batters_prediction.pkl']"
      ]
     },
     "execution_count": 26,
     "metadata": {},
     "output_type": "execute_result"
    }
   ],
   "source": [
    "import joblib\n",
    "\n",
    "joblib.dump(multi_output_regressor, 'batters_prediction.pkl')"
   ]
  }
 ],
 "metadata": {
  "colab": {
   "authorship_tag": "ABX9TyNagRGDcheBJmxMm1Ui1CVO",
   "provenance": []
  },
  "kernelspec": {
   "display_name": "Python 3 (ipykernel)",
   "language": "python",
   "name": "python3"
  },
  "language_info": {
   "codemirror_mode": {
    "name": "ipython",
    "version": 3
   },
   "file_extension": ".py",
   "mimetype": "text/x-python",
   "name": "python",
   "nbconvert_exporter": "python",
   "pygments_lexer": "ipython3",
   "version": "3.12.0"
  }
 },
 "nbformat": 4,
 "nbformat_minor": 1
}
